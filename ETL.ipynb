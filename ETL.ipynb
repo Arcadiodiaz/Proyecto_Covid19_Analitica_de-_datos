{
  "cells": [
    {
      "cell_type": "code",
      "execution_count": null,
      "metadata": {
        "id": "xShHzcoEPp2M",
        "colab": {
          "base_uri": "https://localhost:8080/"
        },
        "outputId": "3a4b8df1-e684-4f48-9701-2ebccb6e7edc"
      },
      "outputs": [
        {
          "output_type": "stream",
          "name": "stdout",
          "text": [
            "Mounted at /content/drive\n"
          ]
        }
      ],
      "source": [
        "#Importa la librería drive de Google Colab para montar la unidad de Google Drive.\n",
        "from google.colab import drive\n",
        "#Monta la unidad de Google Drive en el directorio /content/drive.\n",
        "drive.mount('/content/drive')"
      ]
    },
    {
      "cell_type": "markdown",
      "source": [
        "## Descripción\n",
        "\n",
        "El conjunto de datos Casos positivos de COVID-19 en Colombia es publicado por el Instituto Nacional de Salud (INS) de Colombia, una entidad adscrita al Ministerio de Salud y Protección Social. El INS es la principal fuente de información y análisis en salud pública del país, con el objetivo de mejorar las condiciones de salud de la población colombiana. La información que abarca los campos como: Fecha de reporte, Departamento, Municipio, Número de casos confirmados, Número de casos recuperados, Número de casos fallecidos, Sexo, Edad, Tipo de contagio (por contacto, asintomático). El estado de salud (leve, moderado, grave) Ubicación del caso (casa, hospital, UCI)\n",
        "\n",
        "##Objetivo\n",
        "Analizar el comportamiento de los casos positivos de COVID-19 en\n",
        "Colombia respecto a su ubicación y edad en el periodo 2020.\n",
        "\n",
        "### Columnas:\n",
        "\n",
        "* Fecha del reporte web: Fecha de publicación en sitio web\n",
        "\n",
        "* ID del caso: Identificador del caso\n",
        "\n",
        "* Fecha de notificación: Donde la comunidad empezó a reportar los casos, tipo de campo categórico tipo fecha. (API: fecha_de_notificaci_n)\n",
        "\n",
        "* Código DIVIPOLA departamento: Código del departamento\n",
        "\n",
        "* Nombre departamento: Departamento de Colombia donde se reside el caso. El tipo de campo categórico tipo texto. (API: departamento_nom).\n",
        "\n",
        "* Código DIVIPOLA municipio: Código del municipio\n",
        "\n",
        "* Nombre Municipio: Municipio de Colombia donde se reside el caso. El tipo de campo categórico tipo texto. (API: ciudad_municipio_nom).\n",
        "\n",
        "* Edad: Edad del caso en años. El tipo de campo categórico entero. (API: dad).  \n",
        "\n",
        "* Unidad de medida de edad: 1-Años, 2-Meses, 3-Días\n",
        "\n",
        "* Sexo: Sexo del caso (masculino “M” o femenino “F”). El tipo de campo categórico tipo texto. (API: sexo).\n",
        "\n",
        "* Tipo de contagio: Tipo de caso (contagio local, importado o por contacto estrecho). El tipo de formato categórico tipo texto. (API: fuente_tipo_contagio).\n",
        "\n",
        "* Ubicación del caso: Si se encuentra en un área urbana o rural, tipo de campo categórico tipo texto. (API: ubicación).\n",
        "\n",
        "* Estado: Estado del caso (activo, recuperado o fallecido). El tipo de campo categórico tipo texto. (API: estado).\n",
        "\n",
        "* Código ISO del país: Código del país.\n",
        "\n",
        "* Nombre del país: Nombre del pais donde contrajo el virus.\n",
        "\n",
        "* Recuperado: Recuperado, Fallecido\n",
        "\n",
        "* Fecha de inicio de síntomas: Donde la comunidad empezó a tener síntomas, tipo de campo categórico tipo fecha. (API: fecha_inicio_sintomas).\n",
        "\n",
        "* Fecha de muerte: Fecha declarada de fallecimiento.\n",
        "\n",
        "* Fecha de diagnóstico: Fecha en la que se confirmó el caso de COVID-19, tipo de formato AAAA-MM-DD. (API: fecha_diagnostico).\n",
        "\n",
        "* Fecha de recuperación: Fecha se indico la recuperación del paciente.\n",
        "\n",
        "* Tipo de recuperación:  PCR corresponde a las personas que con segunda\n",
        "prueba dieron negativo para el virus; mientras que tiempo significa que son personas que cumplieron 30 días posteriores al inicio de síntomas o toma de muestras que no tienen síntomas, que no tengan más de 70 años ni que estén hospitalizados.\n",
        "\n",
        "* Pertenencia étnica: 1-Indígena 2-ROM 3-Raizal 4-Palenquero 5-Negro 6-Otro\n",
        "\n",
        "* Nombre del grupo étnico: Nombre del grupo etnico del paciente."
      ],
      "metadata": {
        "id": "czBnGyo61OCG"
      }
    },
    {
      "cell_type": "code",
      "execution_count": null,
      "metadata": {
        "id": "MxyxlAdBRom5"
      },
      "outputs": [],
      "source": [
        "# Procesamiento\n",
        "import pandas as pd #Importa la librería pandas para el manejo de datos.\n",
        "import numpy as np  #Importa la librería numpy para operaciones matemáticas.\n",
        "import datetime as dt  #Importa la librería datetime para el manejo de fechas.\n",
        "import missingno as msno  # Importa la librería missingno para la visualización de valores nulos.\n",
        "\n",
        "# Visualización\n",
        "import matplotlib.pyplot as plt #Importa la librería matplotlib para la generación de gráficos.\n",
        "import seaborn as sns  #Importa la librería seaborn para la generación de gráficos más estéticos.\n",
        "import plotly.graph_objects as go  #Importa la librería plotly para la generación de gráficos interactivos."
      ]
    },
    {
      "cell_type": "markdown",
      "metadata": {
        "id": "gYqqzn2hRvql"
      },
      "source": [
        "## Cargar Datos"
      ]
    },
    {
      "cell_type": "code",
      "execution_count": null,
      "metadata": {
        "colab": {
          "base_uri": "https://localhost:8080/"
        },
        "id": "enPc3RS8R1wt",
        "outputId": "73b121f4-f83f-434c-912f-0f83efcc5fe8"
      },
      "outputs": [
        {
          "output_type": "stream",
          "name": "stderr",
          "text": [
            "<ipython-input-3-0cbe2a1fe030>:2: DtypeWarning: Columns (14) have mixed types. Specify dtype option on import or set low_memory=False.\n",
            "  covid19 = pd.read_csv('/content/drive/MyDrive/BigData/Casos_positivos_de_COVID-19_en_Colombia.csv')\n"
          ]
        }
      ],
      "source": [
        "#Carga el archivo CSV \"Casos_positivos_de_COVID-19_en_Colombia.csv\" desde la unidad de Google Drive y lo guarda en el DataFrame covid19.\n",
        "covid19 = pd.read_csv('/content/drive/MyDrive/BigData/Casos_positivos_de_COVID-19_en_Colombia.csv')"
      ]
    },
    {
      "cell_type": "code",
      "execution_count": null,
      "metadata": {
        "colab": {
          "base_uri": "https://localhost:8080/",
          "height": 498
        },
        "id": "osHH3dXmSumS",
        "outputId": "c7a17865-597d-40f9-86ea-4b175a0699f1"
      },
      "outputs": [
        {
          "output_type": "execute_result",
          "data": {
            "text/plain": [
              "     fecha reporte web  ID de caso Fecha de notificación  \\\n",
              "0  2020-12-24 00:00:00     1556979   2020-12-22 00:00:00   \n",
              "1  2020-12-24 00:00:00     1556980   2020-12-19 00:00:00   \n",
              "2  2020-12-24 00:00:00     1556981   2020-12-19 00:00:00   \n",
              "3  2020-12-24 00:00:00     1556982   2020-12-22 00:00:00   \n",
              "4  2020-12-24 00:00:00     1556983   2020-12-22 00:00:00   \n",
              "\n",
              "   Código DIVIPOLA departamento Nombre departamento  \\\n",
              "0                            76               VALLE   \n",
              "1                            76               VALLE   \n",
              "2                            76               VALLE   \n",
              "3                            76               VALLE   \n",
              "4                            76               VALLE   \n",
              "\n",
              "   Código DIVIPOLA municipio Nombre municipio  Edad  Unidad de medida de edad  \\\n",
              "0                      76001             CALI    67                         1   \n",
              "1                      76001             CALI    66                         1   \n",
              "2                      76001             CALI    68                         1   \n",
              "3                      76001             CALI    74                         1   \n",
              "4                      76001             CALI    65                         1   \n",
              "\n",
              "  Sexo  ... Código ISO del país Nombre del país  Recuperado  \\\n",
              "0    F  ...                 NaN             NaN  Recuperado   \n",
              "1    F  ...                 NaN             NaN  Recuperado   \n",
              "2    F  ...                 NaN             NaN  Recuperado   \n",
              "3    F  ...                 NaN             NaN   Fallecido   \n",
              "4    F  ...                 NaN             NaN  Recuperado   \n",
              "\n",
              "   Fecha de inicio de síntomas      Fecha de muerte Fecha de diagnóstico  \\\n",
              "0          2020-12-21 00:00:00                  NaN  2020-12-23 00:00:00   \n",
              "1          2020-12-07 00:00:00                  NaN  2020-12-23 00:00:00   \n",
              "2          2020-12-18 00:00:00                  NaN  2020-12-22 00:00:00   \n",
              "3          2020-12-17 00:00:00  2020-12-30 00:00:00  2020-12-23 00:00:00   \n",
              "4          2020-12-21 00:00:00                  NaN  2020-12-23 00:00:00   \n",
              "\n",
              "  Fecha de recuperación Tipo de recuperación Pertenencia étnica  \\\n",
              "0   2021-01-04 00:00:00               Tiempo                  6   \n",
              "1   2020-12-25 00:00:00               Tiempo                  6   \n",
              "2   2021-01-01 00:00:00               Tiempo                  6   \n",
              "3                   NaN                  NaN                  6   \n",
              "4   2021-01-04 00:00:00               Tiempo                  6   \n",
              "\n",
              "  Nombre del grupo étnico  \n",
              "0                     NaN  \n",
              "1                     NaN  \n",
              "2                     NaN  \n",
              "3                     NaN  \n",
              "4                     NaN  \n",
              "\n",
              "[5 rows x 23 columns]"
            ],
            "text/html": [
              "\n",
              "  <div id=\"df-ce182e3a-4521-4256-83d1-e0180518acb0\" class=\"colab-df-container\">\n",
              "    <div>\n",
              "<style scoped>\n",
              "    .dataframe tbody tr th:only-of-type {\n",
              "        vertical-align: middle;\n",
              "    }\n",
              "\n",
              "    .dataframe tbody tr th {\n",
              "        vertical-align: top;\n",
              "    }\n",
              "\n",
              "    .dataframe thead th {\n",
              "        text-align: right;\n",
              "    }\n",
              "</style>\n",
              "<table border=\"1\" class=\"dataframe\">\n",
              "  <thead>\n",
              "    <tr style=\"text-align: right;\">\n",
              "      <th></th>\n",
              "      <th>fecha reporte web</th>\n",
              "      <th>ID de caso</th>\n",
              "      <th>Fecha de notificación</th>\n",
              "      <th>Código DIVIPOLA departamento</th>\n",
              "      <th>Nombre departamento</th>\n",
              "      <th>Código DIVIPOLA municipio</th>\n",
              "      <th>Nombre municipio</th>\n",
              "      <th>Edad</th>\n",
              "      <th>Unidad de medida de edad</th>\n",
              "      <th>Sexo</th>\n",
              "      <th>...</th>\n",
              "      <th>Código ISO del país</th>\n",
              "      <th>Nombre del país</th>\n",
              "      <th>Recuperado</th>\n",
              "      <th>Fecha de inicio de síntomas</th>\n",
              "      <th>Fecha de muerte</th>\n",
              "      <th>Fecha de diagnóstico</th>\n",
              "      <th>Fecha de recuperación</th>\n",
              "      <th>Tipo de recuperación</th>\n",
              "      <th>Pertenencia étnica</th>\n",
              "      <th>Nombre del grupo étnico</th>\n",
              "    </tr>\n",
              "  </thead>\n",
              "  <tbody>\n",
              "    <tr>\n",
              "      <th>0</th>\n",
              "      <td>2020-12-24 00:00:00</td>\n",
              "      <td>1556979</td>\n",
              "      <td>2020-12-22 00:00:00</td>\n",
              "      <td>76</td>\n",
              "      <td>VALLE</td>\n",
              "      <td>76001</td>\n",
              "      <td>CALI</td>\n",
              "      <td>67</td>\n",
              "      <td>1</td>\n",
              "      <td>F</td>\n",
              "      <td>...</td>\n",
              "      <td>NaN</td>\n",
              "      <td>NaN</td>\n",
              "      <td>Recuperado</td>\n",
              "      <td>2020-12-21 00:00:00</td>\n",
              "      <td>NaN</td>\n",
              "      <td>2020-12-23 00:00:00</td>\n",
              "      <td>2021-01-04 00:00:00</td>\n",
              "      <td>Tiempo</td>\n",
              "      <td>6</td>\n",
              "      <td>NaN</td>\n",
              "    </tr>\n",
              "    <tr>\n",
              "      <th>1</th>\n",
              "      <td>2020-12-24 00:00:00</td>\n",
              "      <td>1556980</td>\n",
              "      <td>2020-12-19 00:00:00</td>\n",
              "      <td>76</td>\n",
              "      <td>VALLE</td>\n",
              "      <td>76001</td>\n",
              "      <td>CALI</td>\n",
              "      <td>66</td>\n",
              "      <td>1</td>\n",
              "      <td>F</td>\n",
              "      <td>...</td>\n",
              "      <td>NaN</td>\n",
              "      <td>NaN</td>\n",
              "      <td>Recuperado</td>\n",
              "      <td>2020-12-07 00:00:00</td>\n",
              "      <td>NaN</td>\n",
              "      <td>2020-12-23 00:00:00</td>\n",
              "      <td>2020-12-25 00:00:00</td>\n",
              "      <td>Tiempo</td>\n",
              "      <td>6</td>\n",
              "      <td>NaN</td>\n",
              "    </tr>\n",
              "    <tr>\n",
              "      <th>2</th>\n",
              "      <td>2020-12-24 00:00:00</td>\n",
              "      <td>1556981</td>\n",
              "      <td>2020-12-19 00:00:00</td>\n",
              "      <td>76</td>\n",
              "      <td>VALLE</td>\n",
              "      <td>76001</td>\n",
              "      <td>CALI</td>\n",
              "      <td>68</td>\n",
              "      <td>1</td>\n",
              "      <td>F</td>\n",
              "      <td>...</td>\n",
              "      <td>NaN</td>\n",
              "      <td>NaN</td>\n",
              "      <td>Recuperado</td>\n",
              "      <td>2020-12-18 00:00:00</td>\n",
              "      <td>NaN</td>\n",
              "      <td>2020-12-22 00:00:00</td>\n",
              "      <td>2021-01-01 00:00:00</td>\n",
              "      <td>Tiempo</td>\n",
              "      <td>6</td>\n",
              "      <td>NaN</td>\n",
              "    </tr>\n",
              "    <tr>\n",
              "      <th>3</th>\n",
              "      <td>2020-12-24 00:00:00</td>\n",
              "      <td>1556982</td>\n",
              "      <td>2020-12-22 00:00:00</td>\n",
              "      <td>76</td>\n",
              "      <td>VALLE</td>\n",
              "      <td>76001</td>\n",
              "      <td>CALI</td>\n",
              "      <td>74</td>\n",
              "      <td>1</td>\n",
              "      <td>F</td>\n",
              "      <td>...</td>\n",
              "      <td>NaN</td>\n",
              "      <td>NaN</td>\n",
              "      <td>Fallecido</td>\n",
              "      <td>2020-12-17 00:00:00</td>\n",
              "      <td>2020-12-30 00:00:00</td>\n",
              "      <td>2020-12-23 00:00:00</td>\n",
              "      <td>NaN</td>\n",
              "      <td>NaN</td>\n",
              "      <td>6</td>\n",
              "      <td>NaN</td>\n",
              "    </tr>\n",
              "    <tr>\n",
              "      <th>4</th>\n",
              "      <td>2020-12-24 00:00:00</td>\n",
              "      <td>1556983</td>\n",
              "      <td>2020-12-22 00:00:00</td>\n",
              "      <td>76</td>\n",
              "      <td>VALLE</td>\n",
              "      <td>76001</td>\n",
              "      <td>CALI</td>\n",
              "      <td>65</td>\n",
              "      <td>1</td>\n",
              "      <td>F</td>\n",
              "      <td>...</td>\n",
              "      <td>NaN</td>\n",
              "      <td>NaN</td>\n",
              "      <td>Recuperado</td>\n",
              "      <td>2020-12-21 00:00:00</td>\n",
              "      <td>NaN</td>\n",
              "      <td>2020-12-23 00:00:00</td>\n",
              "      <td>2021-01-04 00:00:00</td>\n",
              "      <td>Tiempo</td>\n",
              "      <td>6</td>\n",
              "      <td>NaN</td>\n",
              "    </tr>\n",
              "  </tbody>\n",
              "</table>\n",
              "<p>5 rows × 23 columns</p>\n",
              "</div>\n",
              "    <div class=\"colab-df-buttons\">\n",
              "\n",
              "  <div class=\"colab-df-container\">\n",
              "    <button class=\"colab-df-convert\" onclick=\"convertToInteractive('df-ce182e3a-4521-4256-83d1-e0180518acb0')\"\n",
              "            title=\"Convert this dataframe to an interactive table.\"\n",
              "            style=\"display:none;\">\n",
              "\n",
              "  <svg xmlns=\"http://www.w3.org/2000/svg\" height=\"24px\" viewBox=\"0 -960 960 960\">\n",
              "    <path d=\"M120-120v-720h720v720H120Zm60-500h600v-160H180v160Zm220 220h160v-160H400v160Zm0 220h160v-160H400v160ZM180-400h160v-160H180v160Zm440 0h160v-160H620v160ZM180-180h160v-160H180v160Zm440 0h160v-160H620v160Z\"/>\n",
              "  </svg>\n",
              "    </button>\n",
              "\n",
              "  <style>\n",
              "    .colab-df-container {\n",
              "      display:flex;\n",
              "      gap: 12px;\n",
              "    }\n",
              "\n",
              "    .colab-df-convert {\n",
              "      background-color: #E8F0FE;\n",
              "      border: none;\n",
              "      border-radius: 50%;\n",
              "      cursor: pointer;\n",
              "      display: none;\n",
              "      fill: #1967D2;\n",
              "      height: 32px;\n",
              "      padding: 0 0 0 0;\n",
              "      width: 32px;\n",
              "    }\n",
              "\n",
              "    .colab-df-convert:hover {\n",
              "      background-color: #E2EBFA;\n",
              "      box-shadow: 0px 1px 2px rgba(60, 64, 67, 0.3), 0px 1px 3px 1px rgba(60, 64, 67, 0.15);\n",
              "      fill: #174EA6;\n",
              "    }\n",
              "\n",
              "    .colab-df-buttons div {\n",
              "      margin-bottom: 4px;\n",
              "    }\n",
              "\n",
              "    [theme=dark] .colab-df-convert {\n",
              "      background-color: #3B4455;\n",
              "      fill: #D2E3FC;\n",
              "    }\n",
              "\n",
              "    [theme=dark] .colab-df-convert:hover {\n",
              "      background-color: #434B5C;\n",
              "      box-shadow: 0px 1px 3px 1px rgba(0, 0, 0, 0.15);\n",
              "      filter: drop-shadow(0px 1px 2px rgba(0, 0, 0, 0.3));\n",
              "      fill: #FFFFFF;\n",
              "    }\n",
              "  </style>\n",
              "\n",
              "    <script>\n",
              "      const buttonEl =\n",
              "        document.querySelector('#df-ce182e3a-4521-4256-83d1-e0180518acb0 button.colab-df-convert');\n",
              "      buttonEl.style.display =\n",
              "        google.colab.kernel.accessAllowed ? 'block' : 'none';\n",
              "\n",
              "      async function convertToInteractive(key) {\n",
              "        const element = document.querySelector('#df-ce182e3a-4521-4256-83d1-e0180518acb0');\n",
              "        const dataTable =\n",
              "          await google.colab.kernel.invokeFunction('convertToInteractive',\n",
              "                                                    [key], {});\n",
              "        if (!dataTable) return;\n",
              "\n",
              "        const docLinkHtml = 'Like what you see? Visit the ' +\n",
              "          '<a target=\"_blank\" href=https://colab.research.google.com/notebooks/data_table.ipynb>data table notebook</a>'\n",
              "          + ' to learn more about interactive tables.';\n",
              "        element.innerHTML = '';\n",
              "        dataTable['output_type'] = 'display_data';\n",
              "        await google.colab.output.renderOutput(dataTable, element);\n",
              "        const docLink = document.createElement('div');\n",
              "        docLink.innerHTML = docLinkHtml;\n",
              "        element.appendChild(docLink);\n",
              "      }\n",
              "    </script>\n",
              "  </div>\n",
              "\n",
              "\n",
              "<div id=\"df-4eb8a074-c240-4cee-b492-6d3c2b9e97ab\">\n",
              "  <button class=\"colab-df-quickchart\" onclick=\"quickchart('df-4eb8a074-c240-4cee-b492-6d3c2b9e97ab')\"\n",
              "            title=\"Suggest charts\"\n",
              "            style=\"display:none;\">\n",
              "\n",
              "<svg xmlns=\"http://www.w3.org/2000/svg\" height=\"24px\"viewBox=\"0 0 24 24\"\n",
              "     width=\"24px\">\n",
              "    <g>\n",
              "        <path d=\"M19 3H5c-1.1 0-2 .9-2 2v14c0 1.1.9 2 2 2h14c1.1 0 2-.9 2-2V5c0-1.1-.9-2-2-2zM9 17H7v-7h2v7zm4 0h-2V7h2v10zm4 0h-2v-4h2v4z\"/>\n",
              "    </g>\n",
              "</svg>\n",
              "  </button>\n",
              "\n",
              "<style>\n",
              "  .colab-df-quickchart {\n",
              "      --bg-color: #E8F0FE;\n",
              "      --fill-color: #1967D2;\n",
              "      --hover-bg-color: #E2EBFA;\n",
              "      --hover-fill-color: #174EA6;\n",
              "      --disabled-fill-color: #AAA;\n",
              "      --disabled-bg-color: #DDD;\n",
              "  }\n",
              "\n",
              "  [theme=dark] .colab-df-quickchart {\n",
              "      --bg-color: #3B4455;\n",
              "      --fill-color: #D2E3FC;\n",
              "      --hover-bg-color: #434B5C;\n",
              "      --hover-fill-color: #FFFFFF;\n",
              "      --disabled-bg-color: #3B4455;\n",
              "      --disabled-fill-color: #666;\n",
              "  }\n",
              "\n",
              "  .colab-df-quickchart {\n",
              "    background-color: var(--bg-color);\n",
              "    border: none;\n",
              "    border-radius: 50%;\n",
              "    cursor: pointer;\n",
              "    display: none;\n",
              "    fill: var(--fill-color);\n",
              "    height: 32px;\n",
              "    padding: 0;\n",
              "    width: 32px;\n",
              "  }\n",
              "\n",
              "  .colab-df-quickchart:hover {\n",
              "    background-color: var(--hover-bg-color);\n",
              "    box-shadow: 0 1px 2px rgba(60, 64, 67, 0.3), 0 1px 3px 1px rgba(60, 64, 67, 0.15);\n",
              "    fill: var(--button-hover-fill-color);\n",
              "  }\n",
              "\n",
              "  .colab-df-quickchart-complete:disabled,\n",
              "  .colab-df-quickchart-complete:disabled:hover {\n",
              "    background-color: var(--disabled-bg-color);\n",
              "    fill: var(--disabled-fill-color);\n",
              "    box-shadow: none;\n",
              "  }\n",
              "\n",
              "  .colab-df-spinner {\n",
              "    border: 2px solid var(--fill-color);\n",
              "    border-color: transparent;\n",
              "    border-bottom-color: var(--fill-color);\n",
              "    animation:\n",
              "      spin 1s steps(1) infinite;\n",
              "  }\n",
              "\n",
              "  @keyframes spin {\n",
              "    0% {\n",
              "      border-color: transparent;\n",
              "      border-bottom-color: var(--fill-color);\n",
              "      border-left-color: var(--fill-color);\n",
              "    }\n",
              "    20% {\n",
              "      border-color: transparent;\n",
              "      border-left-color: var(--fill-color);\n",
              "      border-top-color: var(--fill-color);\n",
              "    }\n",
              "    30% {\n",
              "      border-color: transparent;\n",
              "      border-left-color: var(--fill-color);\n",
              "      border-top-color: var(--fill-color);\n",
              "      border-right-color: var(--fill-color);\n",
              "    }\n",
              "    40% {\n",
              "      border-color: transparent;\n",
              "      border-right-color: var(--fill-color);\n",
              "      border-top-color: var(--fill-color);\n",
              "    }\n",
              "    60% {\n",
              "      border-color: transparent;\n",
              "      border-right-color: var(--fill-color);\n",
              "    }\n",
              "    80% {\n",
              "      border-color: transparent;\n",
              "      border-right-color: var(--fill-color);\n",
              "      border-bottom-color: var(--fill-color);\n",
              "    }\n",
              "    90% {\n",
              "      border-color: transparent;\n",
              "      border-bottom-color: var(--fill-color);\n",
              "    }\n",
              "  }\n",
              "</style>\n",
              "\n",
              "  <script>\n",
              "    async function quickchart(key) {\n",
              "      const quickchartButtonEl =\n",
              "        document.querySelector('#' + key + ' button');\n",
              "      quickchartButtonEl.disabled = true;  // To prevent multiple clicks.\n",
              "      quickchartButtonEl.classList.add('colab-df-spinner');\n",
              "      try {\n",
              "        const charts = await google.colab.kernel.invokeFunction(\n",
              "            'suggestCharts', [key], {});\n",
              "      } catch (error) {\n",
              "        console.error('Error during call to suggestCharts:', error);\n",
              "      }\n",
              "      quickchartButtonEl.classList.remove('colab-df-spinner');\n",
              "      quickchartButtonEl.classList.add('colab-df-quickchart-complete');\n",
              "    }\n",
              "    (() => {\n",
              "      let quickchartButtonEl =\n",
              "        document.querySelector('#df-4eb8a074-c240-4cee-b492-6d3c2b9e97ab button');\n",
              "      quickchartButtonEl.style.display =\n",
              "        google.colab.kernel.accessAllowed ? 'block' : 'none';\n",
              "    })();\n",
              "  </script>\n",
              "</div>\n",
              "\n",
              "    </div>\n",
              "  </div>\n"
            ],
            "application/vnd.google.colaboratory.intrinsic+json": {
              "type": "dataframe",
              "variable_name": "covid19"
            }
          },
          "metadata": {},
          "execution_count": 4
        }
      ],
      "source": [
        "covid19.head() #Muestra las primeras 5 filas del DataFrame."
      ]
    },
    {
      "cell_type": "code",
      "execution_count": null,
      "metadata": {
        "colab": {
          "base_uri": "https://localhost:8080/"
        },
        "id": "-uipWZW5TGiT",
        "outputId": "92d3f86e-598f-4530-ceed-c7ce39034770"
      },
      "outputs": [
        {
          "output_type": "execute_result",
          "data": {
            "text/plain": [
              "(1048575, 23)"
            ]
          },
          "metadata": {},
          "execution_count": 5
        }
      ],
      "source": [
        "covid19.shape #Muestra la dimensión del DataFrame (filas y columnas)."
      ]
    },
    {
      "cell_type": "markdown",
      "metadata": {
        "id": "C946OTDLTLxR"
      },
      "source": [
        "## Análisis exploratorio\n",
        "\n",
        "## General"
      ]
    },
    {
      "cell_type": "code",
      "execution_count": null,
      "metadata": {
        "colab": {
          "base_uri": "https://localhost:8080/"
        },
        "id": "iyyMv35ITM8P",
        "outputId": "de0a9793-98d9-418a-fec6-513cba19fa60"
      },
      "outputs": [
        {
          "output_type": "stream",
          "name": "stdout",
          "text": [
            "<class 'pandas.core.frame.DataFrame'>\n",
            "RangeIndex: 1048575 entries, 0 to 1048574\n",
            "Data columns (total 23 columns):\n",
            " #   Column                        Non-Null Count    Dtype  \n",
            "---  ------                        --------------    -----  \n",
            " 0   fecha reporte web             1048575 non-null  object \n",
            " 1   ID de caso                    1048575 non-null  int64  \n",
            " 2   Fecha de notificación         1048575 non-null  object \n",
            " 3   Código DIVIPOLA departamento  1048575 non-null  int64  \n",
            " 4   Nombre departamento           1048575 non-null  object \n",
            " 5   Código DIVIPOLA municipio     1048575 non-null  int64  \n",
            " 6   Nombre municipio              1048575 non-null  object \n",
            " 7   Edad                          1048575 non-null  int64  \n",
            " 8   Unidad de medida de edad      1048575 non-null  int64  \n",
            " 9   Sexo                          1048575 non-null  object \n",
            " 10  Tipo de contagio              1048575 non-null  object \n",
            " 11  Ubicación del caso            1044231 non-null  object \n",
            " 12  Estado                        1044231 non-null  object \n",
            " 13  Código ISO del país           250 non-null      float64\n",
            " 14  Nombre del país               250 non-null      object \n",
            " 15  Recuperado                    1044980 non-null  object \n",
            " 16  Fecha de inicio de síntomas   943160 non-null   object \n",
            " 17  Fecha de muerte               32536 non-null    object \n",
            " 18  Fecha de diagnóstico          1048304 non-null  object \n",
            " 19  Fecha de recuperación         1016788 non-null  object \n",
            " 20  Tipo de recuperación          1016788 non-null  object \n",
            " 21  Pertenencia étnica            1048575 non-null  int64  \n",
            " 22  Nombre del grupo étnico       13424 non-null    object \n",
            "dtypes: float64(1), int64(6), object(16)\n",
            "memory usage: 184.0+ MB\n"
          ]
        }
      ],
      "source": [
        "covid19.info() #Muestra información general del DataFrame, como el tipo de dato de cada columna y la cantidad de valores nulos."
      ]
    },
    {
      "cell_type": "code",
      "execution_count": null,
      "metadata": {
        "colab": {
          "base_uri": "https://localhost:8080/",
          "height": 430
        },
        "id": "Ew4Mf-q7TjaN",
        "outputId": "6791b060-9985-471c-9bf7-8a63dca78aad"
      },
      "outputs": [
        {
          "output_type": "display_data",
          "data": {
            "text/plain": [
              "<Figure size 640x480 with 1 Axes>"
            ],
            "image/png": "[encoded data removed]"
          },
          "metadata": {}
        }
      ],
      "source": [
        "plt.hist(covid19['Edad']); #Muestra un histograma de la variable Edad."
      ]
    },
    {
      "cell_type": "code",
      "source": [
        "covid19[\"Ubicación del caso\"].value_counts() #Muestra la frecuencia de cada valor en la variable Ubicación del caso."
      ],
      "metadata": {
        "colab": {
          "base_uri": "https://localhost:8080/"
        },
        "id": "LLBoPyLU2fCx",
        "outputId": "f610af95-44df-42b9-8b50-9271a35a9807"
      },
      "execution_count": null,
      "outputs": [
        {
          "output_type": "execute_result",
          "data": {
            "text/plain": [
              "Ubicación del caso\n",
              "Casa         1015144\n",
              "Fallecido      28192\n",
              "casa             890\n",
              "CASA               5\n",
              "Name: count, dtype: int64"
            ]
          },
          "metadata": {},
          "execution_count": 9
        }
      ]
    },
    {
      "cell_type": "code",
      "source": [
        "covid19[\"Estado\"].value_counts() #Muestra la frecuencia de cada valor en la variable Estado."
      ],
      "metadata": {
        "colab": {
          "base_uri": "https://localhost:8080/"
        },
        "id": "dA9zJ9MLgfyN",
        "outputId": "58b0066a-270f-468a-900c-3c3a9d7cca15"
      },
      "execution_count": null,
      "outputs": [
        {
          "output_type": "execute_result",
          "data": {
            "text/plain": [
              "Estado\n",
              "Leve         1015641\n",
              "Fallecido      28192\n",
              "leve             398\n",
              "Name: count, dtype: int64"
            ]
          },
          "metadata": {},
          "execution_count": 10
        }
      ]
    },
    {
      "cell_type": "code",
      "source": [
        "covid19[\"Nombre del país\"].value_counts() # Muestra la frecuencia de cada valor en la variable Nombre del país."
      ],
      "metadata": {
        "colab": {
          "base_uri": "https://localhost:8080/"
        },
        "id": "Sy3HJAhcildT",
        "outputId": "d1957f8f-a17e-41f2-a916-b35739883cef"
      },
      "execution_count": null,
      "outputs": [
        {
          "output_type": "execute_result",
          "data": {
            "text/plain": [
              "Nombre del país\n",
              "ESTADOS UNIDOS DE AMÉRICA               97\n",
              "MÉXICO                                  33\n",
              "BRASIL                                  16\n",
              "ESPAÑA                                  16\n",
              "VENEZUELA                               12\n",
              "PANAMÁ                                  12\n",
              "REPÚBLICA DOMINICANA                    11\n",
              "CHILE                                    8\n",
              "ECUADOR                                  7\n",
              "EL SALVADOR                              7\n",
              "PERÚ                                     5\n",
              "PERU                                     2\n",
              "ARMENIA                                  2\n",
              "EMIRATOS ARABES UNIDOS                   2\n",
              "PORTUGAL                                 2\n",
              "FRANCIA                                  2\n",
              "FEDERACIÓN DE RUSIA                      1\n",
              "CANADÁ                                   1\n",
              "ITALIA                                   1\n",
              "EGIPTO                                   1\n",
              "PUERTO RICO                              1\n",
              "GUATEMALA                                1\n",
              "CURAZAO                                  1\n",
              "INDONESIA                                1\n",
              "ARGENTINA                                1\n",
              "ISLAS VÍRGENES DE LOS ESTADOS UNIDOS     1\n",
              "NICARAGUA                                1\n",
              "TRINIDAD Y TOBAGO                        1\n",
              "NORUEGA                                  1\n",
              "DOMINICA                                 1\n",
              "ALEMANIA                                 1\n",
              "ESTADOS UNIDOS                           1\n",
              "Name: count, dtype: int64"
            ]
          },
          "metadata": {},
          "execution_count": 11
        }
      ]
    },
    {
      "cell_type": "code",
      "source": [
        "# Muestra la frecuencia de cada valor en la variable Nombre del grupo étnico.\n",
        "covid19[\"Nombre del grupo étnico\"].value_counts()"
      ],
      "metadata": {
        "colab": {
          "base_uri": "https://localhost:8080/"
        },
        "id": "lUSElJJ_GgUZ",
        "outputId": "087248ae-ba06-412a-963e-deed52115948"
      },
      "execution_count": null,
      "outputs": [
        {
          "output_type": "execute_result",
          "data": {
            "text/plain": [
              "Nombre del grupo étnico\n",
              "Por definir         2117\n",
              "Sin Comunidad       1922\n",
              "ZENU                 686\n",
              "KANKUAMO             453\n",
              "PASTO                385\n",
              "                    ... \n",
              "FUKUANAE               1\n",
              "NUEVA ISLA             1\n",
              "JARAIPA                1\n",
              "ATANQUE                1\n",
              "SAN ISIDRO No. 1       1\n",
              "Name: count, Length: 1163, dtype: int64"
            ]
          },
          "metadata": {},
          "execution_count": 19
        }
      ]
    },
    {
      "cell_type": "code",
      "execution_count": null,
      "metadata": {
        "colab": {
          "base_uri": "https://localhost:8080/"
        },
        "id": "iI3BSFMZtC8-",
        "outputId": "a26092ff-db3e-4348-fa16-d61c34895f71"
      },
      "outputs": [
        {
          "output_type": "execute_result",
          "data": {
            "text/plain": [
              "array(['Leve', 'Fallecido', nan, 'leve'], dtype=object)"
            ]
          },
          "metadata": {},
          "execution_count": 20
        }
      ],
      "source": [
        "# con esta linea identificamos los datos unicos de la columna\n",
        "covid19['Estado'].unique()"
      ]
    },
    {
      "cell_type": "code",
      "execution_count": null,
      "metadata": {
        "colab": {
          "base_uri": "https://localhost:8080/"
        },
        "id": "o-IXrypNtmOV",
        "outputId": "4c56a22f-5867-46ce-b87b-7da6fbfe00fe"
      },
      "outputs": [
        {
          "output_type": "execute_result",
          "data": {
            "text/plain": [
              "array(['VALLE', 'ANTIOQUIA', 'SANTANDER', 'NORTE SANTANDER', 'CALDAS',\n",
              "       'BOGOTA', 'CUNDINAMARCA', 'CAQUETA', 'QUINDIO', 'RISARALDA',\n",
              "       'CASANARE', 'NARIÑO', 'HUILA', 'CESAR', 'META', 'STA MARTA D.E.',\n",
              "       'TOLIMA', 'CAUCA', 'BARRANQUILLA', 'SUCRE', 'CARTAGENA', 'BOLIVAR',\n",
              "       'GUAJIRA', 'ATLANTICO', 'CORDOBA', 'MAGDALENA', 'ARAUCA', 'BOYACA',\n",
              "       'SAN ANDRES', 'CHOCO', 'GUAVIARE', 'VICHADA', 'PUTUMAYO', 'VAUPES',\n",
              "       'GUAINIA', 'AMAZONAS', 'Caldas'], dtype=object)"
            ]
          },
          "metadata": {},
          "execution_count": 21
        }
      ],
      "source": [
        "# Muestra los valores únicos de la variable Nombre departamento.\n",
        "covid19['Nombre departamento'].unique()"
      ]
    },
    {
      "cell_type": "markdown",
      "source": [
        "## Insights"
      ],
      "metadata": {
        "id": "XHkuNPJbe3hO"
      }
    },
    {
      "cell_type": "markdown",
      "source": [
        "* Quitar datos nulos en las columnas \"Ubicación del caso\", \"Estado\", \"Nombre del país\", \"Recuperado\", \"Tipo de recuperación\", \"Nombre del grupo étnico\", \"Código ISO del país\".\n",
        "* Datos duplicado en \"Nombre del país\".\n",
        "* Agregar Formato de fecha a las siguiente columnas 'Fecha de inicio de síntomas', 'Fecha de muerte', 'Fecha de diagnóstico', 'Fecha de recuperación'.\n"
      ],
      "metadata": {
        "id": "wx3QQFHIe-Q2"
      }
    },
    {
      "cell_type": "markdown",
      "metadata": {
        "id": "ss19VM5VuiWq"
      },
      "source": [
        "## Limpieza de datos"
      ]
    },
    {
      "cell_type": "code",
      "source": [
        "null_values_count = covid19.isna().sum() # Cuenta la cantidad de valores nulos en cada columna del DataFrame.\n",
        "null_values_count"
      ],
      "metadata": {
        "colab": {
          "base_uri": "https://localhost:8080/"
        },
        "id": "89Te44kA4oyU",
        "outputId": "54c30f75-02e4-4807-f4b3-0533cd762b87"
      },
      "execution_count": null,
      "outputs": [
        {
          "output_type": "execute_result",
          "data": {
            "text/plain": [
              "fecha reporte web                     0\n",
              "ID de caso                            0\n",
              "Fecha de notificación                 0\n",
              "Código DIVIPOLA departamento          0\n",
              "Nombre departamento                   0\n",
              "Código DIVIPOLA municipio             0\n",
              "Nombre municipio                      0\n",
              "Edad                                  0\n",
              "Unidad de medida de edad              0\n",
              "Sexo                                  0\n",
              "Tipo de contagio                      0\n",
              "Ubicación del caso                 4344\n",
              "Estado                             4344\n",
              "Código ISO del país             1048325\n",
              "Nombre del país                 1048325\n",
              "Recuperado                         3595\n",
              "Fecha de inicio de síntomas      105415\n",
              "Fecha de muerte                 1016039\n",
              "Fecha de diagnóstico                271\n",
              "Fecha de recuperación             31787\n",
              "Tipo de recuperación              31787\n",
              "Pertenencia étnica                    0\n",
              "Nombre del grupo étnico         1035151\n",
              "dtype: int64"
            ]
          },
          "metadata": {},
          "execution_count": 22
        }
      ]
    },
    {
      "cell_type": "code",
      "source": [
        "total_registros = np.product(covid19.shape) # Calcula el número total de registros en el DataFrame.\n",
        "total_nulos = null_values_count.sum() # Calcula el número total de valores nulos en el DataFrame.\n",
        "\n",
        "(total_nulos/total_registros) * 100  # Muestra el porcentaje de valores nulos en el DataFrame."
      ],
      "metadata": {
        "colab": {
          "base_uri": "https://localhost:8080/"
        },
        "id": "3EhFgOHl5ZLc",
        "outputId": "bfff8c26-4515-4a36-b4ea-1853d3278314"
      },
      "execution_count": null,
      "outputs": [
        {
          "output_type": "execute_result",
          "data": {
            "text/plain": [
              "17.95141439365433"
            ]
          },
          "metadata": {},
          "execution_count": 23
        }
      ]
    },
    {
      "cell_type": "code",
      "source": [
        "# Convierte todas las letras de la variable Ubicación del caso a minúsculas y la primera letra a mayúscula.\n",
        "covid19[\"Ubicación del caso\"] = covid19[\"Ubicación del caso\"].str.lower().str.capitalize()"
      ],
      "metadata": {
        "id": "k0YZ9_Ym9NZT"
      },
      "execution_count": null,
      "outputs": []
    },
    {
      "cell_type": "code",
      "source": [
        "# Reemplaza los valores nulos en la variable 'Ubicación del caso' por \"No informado\".\n",
        "covid19[\"Ubicación del caso\"].fillna(\"No informado\", inplace=True)"
      ],
      "metadata": {
        "id": "AE0hCt3uQMrz"
      },
      "execution_count": null,
      "outputs": []
    },
    {
      "cell_type": "code",
      "source": [
        "# Cuenta la cantidad de casos para cada ubicación y guarda el resultado en una variable.\n",
        "ocurrencias_ubicacion = covid19[\"Ubicación del caso\"].value_counts()\n",
        "ocurrencias_ubicacion #Muestra la variable con las ocurrencias de cada ubicación."
      ],
      "metadata": {
        "id": "koZCjv1MQR-v",
        "colab": {
          "base_uri": "https://localhost:8080/"
        },
        "outputId": "ff530d22-7c30-4ea7-a778-204bdfc7d1ba"
      },
      "execution_count": null,
      "outputs": [
        {
          "output_type": "execute_result",
          "data": {
            "text/plain": [
              "Ubicación del caso\n",
              "Casa            1016039\n",
              "Fallecido         28192\n",
              "No informado       4344\n",
              "Name: count, dtype: int64"
            ]
          },
          "metadata": {},
          "execution_count": 26
        }
      ]
    },
    {
      "cell_type": "code",
      "source": [
        "# Convierte la primera letra de cada estado a mayúscula.\n",
        "covid19[\"Estado\"] = covid19[\"Estado\"].str.capitalize()"
      ],
      "metadata": {
        "id": "DQ3c_INaVDOQ"
      },
      "execution_count": null,
      "outputs": []
    },
    {
      "cell_type": "code",
      "source": [
        "# Rellena los valores nulos en la columna \"Estado\" con el texto \"No disponible\".\n",
        "covid19[\"Estado\"].fillna(\"No disponible\", inplace=True)"
      ],
      "metadata": {
        "id": "ie06rTrDVKCn"
      },
      "execution_count": null,
      "outputs": []
    },
    {
      "cell_type": "code",
      "source": [
        "# Cuenta la cantidad de casos para cada estado.\n",
        "covid19[\"Estado\"].value_counts()"
      ],
      "metadata": {
        "id": "M3IoOhrgVH0J",
        "colab": {
          "base_uri": "https://localhost:8080/"
        },
        "outputId": "1484f6eb-544e-457c-ee2e-73cdf6a5859a"
      },
      "execution_count": null,
      "outputs": [
        {
          "output_type": "execute_result",
          "data": {
            "text/plain": [
              "Estado\n",
              "Leve             1016039\n",
              "Fallecido          28192\n",
              "No disponible       4344\n",
              "Name: count, dtype: int64"
            ]
          },
          "metadata": {},
          "execution_count": 29
        }
      ]
    },
    {
      "cell_type": "code",
      "source": [
        "# Rellena los valores nulos en la columna \"Nombre del país\" con el texto \"Colombia\".\n",
        "covid19[\"Nombre del país\"].fillna(\"Colombia\", inplace=True)"
      ],
      "metadata": {
        "id": "OEbfQXZYbb48"
      },
      "execution_count": null,
      "outputs": []
    },
    {
      "cell_type": "code",
      "source": [
        "# Elimina espacios en blanco al inicio y al final de cada nombre de país.\n",
        "covid19[\"Nombre del país\"] = covid19[\"Nombre del país\"].str.strip().str.capitalize()"
      ],
      "metadata": {
        "id": "NH_gOtthbszN"
      },
      "execution_count": null,
      "outputs": []
    },
    {
      "cell_type": "code",
      "source": [
        "# Reemplaza nombres de países específicos con la forma correcta.\n",
        "covid19[\"Nombre del país\"].replace({\"Estados unidos\": \"Estados unidos de américa\", \"Peru\": \"Perú\"}, inplace=True)"
      ],
      "metadata": {
        "id": "D3qk2Fe-fi3W"
      },
      "execution_count": null,
      "outputs": []
    },
    {
      "cell_type": "code",
      "source": [
        "# Convierte la primera letra de cada valor en \"Recuperado\" a mayúscula.\n",
        "covid19[\"Recuperado\"] = covid19[\"Recuperado\"].str.capitalize()"
      ],
      "metadata": {
        "id": "7FMkvqULj1b1"
      },
      "execution_count": null,
      "outputs": []
    },
    {
      "cell_type": "code",
      "source": [
        "# Rellena los valores nulos en la columna \"Recuperado\" con el texto \"No registrado\".\n",
        "covid19[\"Recuperado\"].fillna(\"No registrado\", inplace=True)"
      ],
      "metadata": {
        "id": "7fu3L1Doj642"
      },
      "execution_count": null,
      "outputs": []
    },
    {
      "cell_type": "code",
      "source": [
        "# Cuenta la cantidad de casos para cada estado de recuperación.\n",
        "covid19[\"Recuperado\"].value_counts()"
      ],
      "metadata": {
        "id": "8roVv5zZkScx",
        "colab": {
          "base_uri": "https://localhost:8080/"
        },
        "outputId": "17ff3ee2-1bf4-4b86-f7f3-d7c78145a794"
      },
      "execution_count": null,
      "outputs": [
        {
          "output_type": "execute_result",
          "data": {
            "text/plain": [
              "Recuperado\n",
              "Recuperado       1016788\n",
              "Fallecido          28192\n",
              "No registrado       3595\n",
              "Name: count, dtype: int64"
            ]
          },
          "metadata": {},
          "execution_count": 35
        }
      ]
    },
    {
      "cell_type": "code",
      "source": [
        "# Rellena los valores nulos en la columna \"Tipo de recuperación\" con el texto \"No disponible\".\n",
        "covid19[\"Tipo de recuperación\"].fillna(\"No disponible\", inplace=True)"
      ],
      "metadata": {
        "id": "o1n3jgySlMfC"
      },
      "execution_count": null,
      "outputs": []
    },
    {
      "cell_type": "code",
      "source": [
        "# Cuenta las ocurrencias de cada valor en \"Tipo de recuperación\" después de las modificaciones\n",
        "covid19[\"Tipo de recuperación\"].value_counts()"
      ],
      "metadata": {
        "id": "1oOjXeTxlTfT",
        "colab": {
          "base_uri": "https://localhost:8080/"
        },
        "outputId": "85aaa604-2412-4ade-bb84-c8eae4928281"
      },
      "execution_count": null,
      "outputs": [
        {
          "output_type": "execute_result",
          "data": {
            "text/plain": [
              "Tipo de recuperación\n",
              "Tiempo           832442\n",
              "PCR              184346\n",
              "No disponible     31787\n",
              "Name: count, dtype: int64"
            ]
          },
          "metadata": {},
          "execution_count": 37
        }
      ]
    },
    {
      "cell_type": "code",
      "source": [
        "# Reemplaza los valores nulos en la columna \"Nombre del grupo étnico\" por \"Sin especificar\"\n",
        "covid19[\"Nombre del grupo étnico\"].fillna(\"Sin especificar\", inplace=True)"
      ],
      "metadata": {
        "id": "csE64sFEncys"
      },
      "execution_count": null,
      "outputs": []
    },
    {
      "cell_type": "code",
      "source": [
        "# Convierte la primera letra de cada nombre de grupo étnico a mayúscula\n",
        "covid19[\"Nombre del grupo étnico\"] = covid19[\"Nombre del grupo étnico\"].str.capitalize()"
      ],
      "metadata": {
        "id": "3vmipPHKns1W"
      },
      "execution_count": null,
      "outputs": []
    },
    {
      "cell_type": "code",
      "source": [
        "# Cuenta las ocurrencias de cada nombre de grupo étnico después de las modificaciones\n",
        "covid19[\"Nombre del grupo étnico\"].value_counts()"
      ],
      "metadata": {
        "id": "vkbTpNl_nhMl",
        "colab": {
          "base_uri": "https://localhost:8080/"
        },
        "outputId": "566b6ba4-5d1f-4d3c-e3f2-6245b45a9710"
      },
      "execution_count": null,
      "outputs": [
        {
          "output_type": "execute_result",
          "data": {
            "text/plain": [
              "Nombre del grupo étnico\n",
              "Sin especificar                     1035151\n",
              "Por definir                            2117\n",
              "Sin comunidad                          1922\n",
              "Zenu                                    686\n",
              "Kankuamo                                453\n",
              "                                     ...   \n",
              "Apatalain ( zona wimpeshi)                1\n",
              "Selva de mataven atana pirariami          1\n",
              "Karekaremana                              1\n",
              "Santa barbara                             1\n",
              "San isidro no. 1                          1\n",
              "Name: count, Length: 1161, dtype: int64"
            ]
          },
          "metadata": {},
          "execution_count": 40
        }
      ]
    },
    {
      "cell_type": "code",
      "source": [
        "# Reemplaza los valores nulos en la columna \"Código ISO del país\" por 170 indica el codigo de Colombia\n",
        "covid19[\"Código ISO del país\"].fillna(170, inplace=True)"
      ],
      "metadata": {
        "id": "saF-BOIMsiLQ"
      },
      "execution_count": null,
      "outputs": []
    },
    {
      "cell_type": "code",
      "source": [
        "# Reemplaza los valores nulos en la columna \"Fecha de inicio de síntomas\" por una fecha predeterminada\n",
        "covid19['Fecha de inicio de síntomas'].fillna(pd.to_datetime(\"2000-01-01 00:00:00\"), inplace=True)"
      ],
      "metadata": {
        "id": "8pWJLnfFv-CH"
      },
      "execution_count": null,
      "outputs": []
    },
    {
      "cell_type": "code",
      "source": [
        "# Se reemplazan los valores nulos en \"Fecha de muerte\" por la fecha \"2000-01-01 00:00:00\"\n",
        "covid19['Fecha de muerte'].fillna(pd.to_datetime(\"2000-01-01 00:00:00\"), inplace=True)"
      ],
      "metadata": {
        "id": "bEXuB1eVwy-U"
      },
      "execution_count": null,
      "outputs": []
    },
    {
      "cell_type": "code",
      "source": [
        "# Se reemplazan los valores nulos en \"Fecha de diagnóstico\" por la fecha \"2000-01-01 00:00:00\"\n",
        "covid19['Fecha de diagnóstico'].fillna(pd.to_datetime(\"2000-01-01 00:00:00\"), inplace=True)"
      ],
      "metadata": {
        "id": "b2l1mjliw0K9"
      },
      "execution_count": null,
      "outputs": []
    },
    {
      "cell_type": "code",
      "source": [
        "# Se reemplazan los valores nulos en \"Fecha de recuperación\" por la fecha \"2000-01-01 00:00:00\"\n",
        "covid19['Fecha de recuperación'].fillna(pd.to_datetime(\"2000-01-01 00:00:00\"), inplace=True)"
      ],
      "metadata": {
        "id": "aWkToUxiwzpy"
      },
      "execution_count": null,
      "outputs": []
    },
    {
      "cell_type": "code",
      "source": [
        "# Se crea una nueva columna llamada \"N_registros\" que contiene un rango de números del 1 al número de filas del DataFrame\n",
        "covid19['N_registros'] = range(1, len(covid19) + 1)"
      ],
      "metadata": {
        "id": "xTjZFx8WyHh_"
      },
      "execution_count": null,
      "outputs": []
    },
    {
      "cell_type": "code",
      "source": [
        "# Se inserta la columna \"N_registros\" al inicio del DataFrame\n",
        "covid19.insert(0, 'N_registros', covid19.pop('N_registros'))"
      ],
      "metadata": {
        "id": "VgtbGSQ3yTn8"
      },
      "execution_count": null,
      "outputs": []
    },
    {
      "cell_type": "code",
      "source": [
        "# Se cuenta el número de valores nulos en cada columna del DataFrame\n",
        "null_values_count = covid19.isna().sum()\n",
        "# Se muestra el resultado\n",
        "null_values_count"
      ],
      "metadata": {
        "colab": {
          "base_uri": "https://localhost:8080/"
        },
        "id": "W9avxxvTxAY9",
        "outputId": "c13ff9f2-0795-47a1-d64f-58e5bbcb4980"
      },
      "execution_count": null,
      "outputs": [
        {
          "output_type": "execute_result",
          "data": {
            "text/plain": [
              "N_registros                     0\n",
              "fecha reporte web               0\n",
              "ID de caso                      0\n",
              "Fecha de notificación           0\n",
              "Código DIVIPOLA departamento    0\n",
              "Nombre departamento             0\n",
              "Código DIVIPOLA municipio       0\n",
              "Nombre municipio                0\n",
              "Edad                            0\n",
              "Unidad de medida de edad        0\n",
              "Sexo                            0\n",
              "Tipo de contagio                0\n",
              "Ubicación del caso              0\n",
              "Estado                          0\n",
              "Código ISO del país             0\n",
              "Nombre del país                 0\n",
              "Recuperado                      0\n",
              "Fecha de inicio de síntomas     0\n",
              "Fecha de muerte                 0\n",
              "Fecha de diagnóstico            0\n",
              "Fecha de recuperación           0\n",
              "Tipo de recuperación            0\n",
              "Pertenencia étnica              0\n",
              "Nombre del grupo étnico         0\n",
              "dtype: int64"
            ]
          },
          "metadata": {},
          "execution_count": 48
        }
      ]
    },
    {
      "cell_type": "code",
      "source": [
        "# Se exporta el DataFrame a un archivo CSV llamado \"covid19_datos.csv\"\n",
        "covid19.to_csv('covid19_datos.csv', index=False)"
      ],
      "metadata": {
        "id": "3ZAqcPY5yx6m"
      },
      "execution_count": null,
      "outputs": []
    }
  ],
  "metadata": {
    "colab": {
      "provenance": []
    },
    "kernelspec": {
      "display_name": "Python 3",
      "name": "python3"
    },
    "language_info": {
      "name": "python"
    }
  },
  "nbformat": 4,
  "nbformat_minor": 0
}